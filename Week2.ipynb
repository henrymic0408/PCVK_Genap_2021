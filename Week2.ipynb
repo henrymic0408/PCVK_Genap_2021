{
  "nbformat": 4,
  "nbformat_minor": 0,
  "metadata": {
    "colab": {
      "name": "Week2.ipynb",
      "provenance": [],
      "collapsed_sections": [],
      "authorship_tag": "ABX9TyNmNU09vt0G8iLeza5DnHww",
      "include_colab_link": true
    },
    "kernelspec": {
      "name": "python3",
      "display_name": "Python 3"
    }
  },
  "cells": [
    {
      "cell_type": "markdown",
      "metadata": {
        "id": "view-in-github",
        "colab_type": "text"
      },
      "source": [
        "<a href=\"https://colab.research.google.com/github/henrymic0408/PCVK_Genap_2021/blob/main/Week2.ipynb\" target=\"_parent\"><img src=\"https://colab.research.google.com/assets/colab-badge.svg\" alt=\"Open In Colab\"/></a>"
      ]
    },
    {
      "cell_type": "code",
      "metadata": {
        "id": "FUVRlVhrklpg",
        "colab": {
          "base_uri": "https://localhost:8080/"
        },
        "outputId": "30fda81c-142f-4f7a-a730-cc3ba415b770"
      },
      "source": [
        "from google.colab import drive\r\n",
        "\r\n",
        "#Accessing My Google Drive\r\n",
        "drive.mount('/content/drive')"
      ],
      "execution_count": null,
      "outputs": [
        {
          "output_type": "stream",
          "text": [
            "Drive already mounted at /content/drive; to attempt to forcibly remount, call drive.mount(\"/content/drive\", force_remount=True).\n"
          ],
          "name": "stdout"
        }
      ]
    },
    {
      "cell_type": "code",
      "metadata": {
        "id": "VwqyA8Ye5Cxd"
      },
      "source": [
        "import cv2 as cv\r\n",
        "from google.colab.patches import cv2_imshow\r\n",
        "from skimage import io\r\n",
        "import matplotlib.pyplot as plt\r\n",
        "import numpy as np\r\n",
        "img = cv.imread('/content/drive/MyDrive/images/cat.jpg')\r\n",
        "plt.imshow(img)"
      ],
      "execution_count": null,
      "outputs": []
    },
    {
      "cell_type": "code",
      "metadata": {
        "id": "fjUAx7uv5frM"
      },
      "source": [
        "img2 = img\r\n",
        "img3 = cv.cvtColor(img,cv.COLOR_BGR2RGB)\r\n",
        "plt.imshow(img3)"
      ],
      "execution_count": null,
      "outputs": []
    },
    {
      "cell_type": "markdown",
      "metadata": {
        "id": "w2bOG6TB55vT"
      },
      "source": [
        "**TUGAS**\r\n",
        "Berdasarkan praktikum bagian 1 dan 2 kerjakan beberapa tugas berikut :\r\n",
        "1. Dengan menggunakan figsize, perhatikan apakah ukuran image pixelnya juga\r\n",
        "berubah?\r\n",
        "2. Tampilkan image dalam channel Red-Green dan Green-Blue saja!\r\n",
        "3. Tampilkan image baris ke 10-100, kolom 10-100!\r\n",
        "4. Tampilkan image baris ke 5-30, semua kolom, channel Green saja!\r\n",
        "5. Buat 5 kotak berbagai ukuran dan warna yang berbeda dalam satu image.\r\n",
        "disarankan menggunakan bilangan acak/random!\r\n",
        "6. Tampilkan image dengan posisi terbalik!"
      ]
    },
    {
      "cell_type": "code",
      "metadata": {
        "id": "2EDLsAOk6rG8"
      },
      "source": [
        "img_gray = cv.imread('/content/drive/MyDrive/images/cat.jpg', cv.IMREAD_GRAYSCALE)\r\n",
        "plt.imshow(img_gray)"
      ],
      "execution_count": null,
      "outputs": []
    },
    {
      "cell_type": "code",
      "metadata": {
        "id": "gmskVaVr9QC7"
      },
      "source": [
        "img_gray = cv.imread('/content/drive/MyDrive/images/cat.jpg', cv.IMREAD_GRAYSCALE)\r\n",
        "plt.imshow(img_gray, cmap='gray')"
      ],
      "execution_count": null,
      "outputs": []
    },
    {
      "cell_type": "code",
      "metadata": {
        "id": "cl3wHomA9VAc"
      },
      "source": [
        "img_gray = cv.imread('/content/drive/MyDrive/images/cat.jpg', cv.IMREAD_GRAYSCALE)\r\n",
        "plt.imshow(img_gray, cmap='magma')"
      ],
      "execution_count": null,
      "outputs": []
    },
    {
      "cell_type": "code",
      "metadata": {
        "id": "GaLu4m819jJj"
      },
      "source": [
        "img4 = cv.resize(cv.cvtColor(img,cv.COLOR_BGR2RGB), (512,1024))\r\n",
        "plt.imshow(img4)"
      ],
      "execution_count": null,
      "outputs": []
    },
    {
      "cell_type": "code",
      "metadata": {
        "id": "YL6Vu9PZ-1m8"
      },
      "source": [
        "img5 = cv.flip(cv.cvtColor(img,cv.COLOR_BGR2RGB),0)\r\n",
        "\r\n",
        "#simpan file image\r\n",
        "#cv.imwrite('/content/drive/MyDrive/images/cat1.tiff',img5)\r\n",
        "\r\n",
        "#tampilkan plot dengan ukuran canvas yang lebih besar\r\n",
        "fig = plt.figure(figsize=(10,10))        #ubah ukuran (10,10) sesuai kebutuhan\r\n",
        "ax = fig.add_subplot(111)\r\n",
        "ax.imshow(img5)"
      ],
      "execution_count": null,
      "outputs": []
    },
    {
      "cell_type": "code",
      "metadata": {
        "id": "WDNUwBL5_9mM"
      },
      "source": [
        "black_img = np.zeros(shape=(512,512,3),dtype=np.int16)\r\n",
        "plt.imshow(black_img)"
      ],
      "execution_count": null,
      "outputs": []
    }
  ]
}
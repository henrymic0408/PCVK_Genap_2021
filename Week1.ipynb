{
  "nbformat": 4,
  "nbformat_minor": 0,
  "metadata": {
    "colab": {
      "name": "Week1.ipynb",
      "provenance": [],
      "authorship_tag": "ABX9TyNbjVclCZ3SZDyVjcvXnbZ8",
      "include_colab_link": true
    },
    "kernelspec": {
      "name": "python3",
      "display_name": "Python 3"
    }
  },
  "cells": [
    {
      "cell_type": "markdown",
      "metadata": {
        "id": "view-in-github",
        "colab_type": "text"
      },
      "source": [
        "<a href=\"https://colab.research.google.com/github/henrymic0408/PCVK_Genap_2021/blob/main/Week1.ipynb\" target=\"_parent\"><img src=\"https://colab.research.google.com/assets/colab-badge.svg\" alt=\"Open In Colab\"/></a>"
      ]
    },
    {
      "cell_type": "markdown",
      "metadata": {
        "id": "TcBizh1vEHRG"
      },
      "source": [
        "**Langkah 1**"
      ]
    },
    {
      "cell_type": "code",
      "metadata": {
        "id": "kGOkMEWHB5jC"
      },
      "source": [
        "import numpy as np\r\n",
        "import pandas as pd\r\n",
        "import cv2 as cv\r\n",
        "from google.colab.patches import cv2_imshow # for image display\r\n",
        "from skimage import io\r\n",
        "from skimage import transform\r\n",
        "from PIL import image\r\n",
        "import matlotlib.pylab as plt"
      ],
      "execution_count": null,
      "outputs": []
    },
    {
      "cell_type": "markdown",
      "metadata": {
        "id": "AB4_d2lXEXsm"
      },
      "source": [
        "**Langkah 2**"
      ]
    },
    {
      "cell_type": "code",
      "metadata": {
        "id": "5NDOkJ1rEGVg"
      },
      "source": [
        "urls = [\"https://iiif.lib.ncsu.edu/iiif/0052574/full/800,/0/default.jpg\",\r\n",
        "        \"https://iiif.lib.ncsu.edu/iiif/0016007/full/800,/0/default.jpg\",\r\n",
        "        \"https://placekitten.com/800/571\"]\r\n",
        "\r\n",
        "for url in urls:\r\n",
        "  image = io.imread(url)\r\n",
        "  image = cv.resize(image, (0,0), fx=0.5, fy=0.5)\r\n",
        "  image_2 = cv.cvtColor(image, cv.COLOR_BGR2RGB)\r\n",
        "  final_frame = cv.hconcat((image, image_2))\r\n",
        "  cv2_imshow(final_frame)\r\n",
        "  print('\\n')"
      ],
      "execution_count": null,
      "outputs": []
    }
  ]
}